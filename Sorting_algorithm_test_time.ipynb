{
 "cells": [
  {
   "cell_type": "markdown",
   "metadata": {},
   "source": [
    "# Sorting Algorithms with Testing & Timing"
   ]
  },
  {
   "cell_type": "code",
   "execution_count": 47,
   "metadata": {},
   "outputs": [
    {
     "name": "stdout",
     "output_type": "stream",
     "text": [
      "What size list do you want to create?10000\n",
      "What is the max value of the range of the list?10\n",
      "How many times do you want to run?7\n",
      "Run: 1\n",
      "Quicksort\t -> Elapsed time: 0.01092076301574707\n",
      "Mergesort\t -> Elapsed time: 0.1805706024169922\n",
      "Sorted\t -> Elapsed time: 0.0029938220977783203\n",
      "Bubblesort\t -> Elapsed time: 35.0750207901001\n",
      "----------------------------------------\n",
      "Run: 2\n",
      "Quicksort\t -> Elapsed time: 0.012965917587280273\n",
      "Mergesort\t -> Elapsed time: 0.07384514808654785\n",
      "Sorted\t -> Elapsed time: 0.0009965896606445312\n",
      "Bubblesort\t -> Elapsed time: 28.998303651809692\n",
      "----------------------------------------\n",
      "Run: 3\n",
      "Quicksort\t -> Elapsed time: 0.006983041763305664\n",
      "Mergesort\t -> Elapsed time: 0.06975769996643066\n",
      "Sorted\t -> Elapsed time: 0.0019948482513427734\n",
      "Bubblesort\t -> Elapsed time: 35.489582538604736\n",
      "----------------------------------------\n",
      "Run: 4\n",
      "Quicksort\t -> Elapsed time: 0.010976076126098633\n",
      "Mergesort\t -> Elapsed time: 0.08676433563232422\n",
      "Sorted\t -> Elapsed time: 0.001993417739868164\n",
      "Bubblesort\t -> Elapsed time: 23.219829082489014\n",
      "----------------------------------------\n",
      "Run: 5\n",
      "Quicksort\t -> Elapsed time: 0.007005453109741211\n",
      "Mergesort\t -> Elapsed time: 0.06880974769592285\n",
      "Sorted\t -> Elapsed time: 0.0019996166229248047\n",
      "Bubblesort\t -> Elapsed time: 27.52939224243164\n",
      "----------------------------------------\n",
      "Run: 6\n",
      "Quicksort\t -> Elapsed time: 0.005984783172607422\n",
      "Mergesort\t -> Elapsed time: 0.06985926628112793\n",
      "Sorted\t -> Elapsed time: 0.0009965896606445312\n",
      "Bubblesort\t -> Elapsed time: 26.450031518936157\n",
      "----------------------------------------\n",
      "Run: 7\n",
      "Quicksort\t -> Elapsed time: 0.004986286163330078\n",
      "Mergesort\t -> Elapsed time: 0.04587745666503906\n",
      "Sorted\t -> Elapsed time: 0.0009999275207519531\n",
      "Bubblesort\t -> Elapsed time: 24.732528686523438\n",
      "----------------------------------------\n"
     ]
    }
   ],
   "source": [
    "# Create Random Lists\n",
    "import time\n",
    "import random\n",
    "\n",
    "l = []\n",
    "\n",
    "def quicksort(arr):\n",
    "    if len(arr) < 2:\n",
    "        return arr\n",
    "    else:\n",
    "        pivot = arr[-1]\n",
    "        smaller, equal, larger = [],[],[]\n",
    "        for num in arr:\n",
    "            if num < pivot:\n",
    "                smaller.append(num)\n",
    "            elif num == pivot:\n",
    "                equal.append(num)\n",
    "            else:\n",
    "                larger.append(num)\n",
    "        return quicksort(smaller) + equal + quicksort(larger)\n",
    "\n",
    "l = []  \n",
    "def merge_sorted(arr1,arr2):\n",
    "    sorted_arr = []\n",
    "    i, j = 0, 0\n",
    "    while i < len(arr1) and j < len(arr2):\n",
    "        if arr1[i] < arr2[j]:\n",
    "            sorted_arr.append(arr1[i])\n",
    "            i += 1\n",
    "        else:\n",
    "            sorted_arr.append(arr2[j])\n",
    "            j += 1\n",
    "    while i < len(arr1):\n",
    "        sorted_arr.append(arr1[i])\n",
    "        i += 1\n",
    "    while j < len(arr2):\n",
    "        sorted_arr.append(arr2[j])\n",
    "        j += 1\n",
    "    return sorted_arr\n",
    "\n",
    "def divide_arr(arr):\n",
    "    if len(arr) < 2:\n",
    "        return arr[:]\n",
    "    else:\n",
    "        middle = len(arr)//2\n",
    "        l1 = divide_arr(arr[:middle])\n",
    "        l2 = divide_arr(arr[middle:])\n",
    "        return merge_sorted(l1, l2)\n",
    "\n",
    "\n",
    "def mergesort(arr):\n",
    "    if len(arr) < 2:\n",
    "        return  arr[:]\n",
    "    else:\n",
    "        middle = len(arr)//2\n",
    "        l1 = mergesort(arr[:middle])\n",
    "        l2 = mergesort(arr[:middle])\n",
    "        return merge_sorted(l1, l2)\n",
    "    \n",
    "    \n",
    "l = []\n",
    "def bubblesort(arr):\n",
    "    swap_happened = True\n",
    "    while swap_happened:\n",
    "        swap_happened = False\n",
    "        for num in range(len(arr)-1):\n",
    "            if arr[num] > arr[num+1]:\n",
    "                swap_happened = True\n",
    "                arr[num], arr[num+1] = arr[num+1], arr[num]\n",
    "\n",
    "    \n",
    "def create_random_list(size, max_val):\n",
    "    ran_list = []\n",
    "    for num in range(size):\n",
    "        ran_list.append(random.randint(1, max_val))\n",
    "    return ran_list\n",
    "\n",
    "def analyze_func(func_name, arr):\n",
    "    tic = time.time()\n",
    "    func_name(arr)\n",
    "    toc = time.time()\n",
    "    seconds = toc-tic\n",
    "    print(f\"{func_name.__name__.capitalize()}\\t -> Elapsed time: {seconds}\")\n",
    "\n",
    "size = int(input(\"What size list do you want to create?\"))\n",
    "max = int(input(\"What is the max value of the range of the list?\"))\n",
    "\n",
    "l = create_random_list(size,max)\n",
    "\n",
    "run_times = int(input(\"How many times do you want to run?\"))\n",
    "\n",
    "for num in range(run_times):\n",
    "    print(f\"Run: {num+1}\")\n",
    "    l = create_random_list(size,max)\n",
    "    analyze_func(quicksort, l)\n",
    "    analyze_func(mergesort, l)\n",
    "    analyze_func(sorted, l)\n",
    "    analyze_func(bubblesort, l.copy())\n",
    "    print(\"-\" * 40)\n"
   ]
  },
  {
   "cell_type": "code",
   "execution_count": 51,
   "metadata": {},
   "outputs": [],
   "source": [
    "l = [5,6,7,8,9,2,3,3,1]\n",
    "\n",
    "def quicksort(arr):\n",
    "    if len(arr) < 2:\n",
    "        return arr\n",
    "    else:\n",
    "        pivot = arr[-1]\n",
    "        smaller, equal, larger = [],[],[]\n",
    "        for num in arr:\n",
    "            if num < pivot:\n",
    "                smaller.append(num)\n",
    "            elif num == pivot:\n",
    "                equal.append(num)\n",
    "            else:\n",
    "                larger.append(num)\n",
    "        return quicksort(smaller) + equal + quicksort(larger)\n",
    "\n",
    "def bubblesort(arr):\n",
    "    swap_happened = True\n",
    "    while swap_happened:\n",
    "        swap_happened = False\n",
    "        for num in range(len(arr)-1):\n",
    "            if arr[num] > arr[num+1]:\n",
    "                swap_happened = True\n",
    "                arr[num], arr[num+1] = arr[num+1], arr[num]"
   ]
  },
  {
   "cell_type": "code",
   "execution_count": 55,
   "metadata": {},
   "outputs": [
    {
     "name": "stdout",
     "output_type": "stream",
     "text": [
      "Everything passed\n"
     ]
    }
   ],
   "source": [
    "l = [5,6,7,8,9,2,3,3,1]\n",
    "\n",
    "def test_sum():\n",
    "    assert quicksort(l) == sorted(l), \"Samed result as built in sorted\"\n",
    "    \n",
    "if __name__ == \"__main__\":\n",
    "    test_sum()\n",
    "    print(\"Everything passed\")"
   ]
  },
  {
   "cell_type": "code",
   "execution_count": 57,
   "metadata": {},
   "outputs": [
    {
     "name": "stdout",
     "output_type": "stream",
     "text": [
      "Everything passed\n"
     ]
    }
   ],
   "source": [
    "def test_sum():\n",
    "    assert quicksort(l) == sorted(l), \"Samed result as built in sorted\"\n",
    "    \n",
    "if __name__ == \"__main__\":\n",
    "    test_sum()\n",
    "    print(\"Everything passed\")"
   ]
  },
  {
   "cell_type": "code",
   "execution_count": 58,
   "metadata": {},
   "outputs": [
    {
     "name": "stdout",
     "output_type": "stream",
     "text": [
      "Everything passed\n"
     ]
    }
   ],
   "source": [
    "def test_merge():\n",
    "    assert quicksort(l) == [1,2,3,3,5,6,7,8,9] , \"Matches known answer\"\n",
    "    \n",
    "if __name__ == \"__main__\":\n",
    "    test_merge()\n",
    "    print(\"Everything passed\")    \n"
   ]
  },
  {
   "cell_type": "code",
   "execution_count": 59,
   "metadata": {},
   "outputs": [
    {
     "name": "stdout",
     "output_type": "stream",
     "text": [
      "Everything passed\n"
     ]
    }
   ],
   "source": [
    "def test_sort():\n",
    "    assert sorted(l) == [1,2,3,3,5,6,7,8,9], \"Matches known answer\" # wrong no 12\n",
    "\n",
    "if __name__ == \"__main__\":\n",
    "    test_sort()\n",
    "    print(\"Everything passed\")    \n",
    "   \n"
   ]
  },
  {
   "cell_type": "code",
   "execution_count": null,
   "metadata": {},
   "outputs": [],
   "source": []
  }
 ],
 "metadata": {
  "kernelspec": {
   "display_name": "Python 3",
   "language": "python",
   "name": "python3"
  },
  "language_info": {
   "codemirror_mode": {
    "name": "ipython",
    "version": 3
   },
   "file_extension": ".py",
   "mimetype": "text/x-python",
   "name": "python",
   "nbconvert_exporter": "python",
   "pygments_lexer": "ipython3",
   "version": "3.7.7"
  }
 },
 "nbformat": 4,
 "nbformat_minor": 4
}
